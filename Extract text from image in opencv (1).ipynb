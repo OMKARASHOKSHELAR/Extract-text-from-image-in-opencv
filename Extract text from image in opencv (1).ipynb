{
 "cells": [
  {
   "cell_type": "markdown",
   "id": "e6f2715a",
   "metadata": {},
   "source": [
    "# installaton of opencv"
   ]
  },
  {
   "cell_type": "code",
   "execution_count": 1,
   "id": "41da4194",
   "metadata": {},
   "outputs": [
    {
     "name": "stdout",
     "output_type": "stream",
     "text": [
      "Requirement already satisfied: opencv-python in c:\\users\\omkar\\anaconda3\\envs\\notebook\\lib\\site-packages (4.9.0.80)\n",
      "Requirement already satisfied: numpy>=1.21.2 in c:\\users\\omkar\\anaconda3\\envs\\notebook\\lib\\site-packages (from opencv-python) (1.26.1)\n"
     ]
    },
    {
     "name": "stderr",
     "output_type": "stream",
     "text": [
      "WARNING: Ignoring invalid distribution -atplotlib (c:\\users\\omkar\\anaconda3\\envs\\notebook\\lib\\site-packages)\n",
      "WARNING: Ignoring invalid distribution -atplotlib (c:\\users\\omkar\\anaconda3\\envs\\notebook\\lib\\site-packages)\n"
     ]
    }
   ],
   "source": [
    "! pip install opencv-python # installaton of opencv"
   ]
  },
  {
   "cell_type": "markdown",
   "id": "295bb15e",
   "metadata": {},
   "source": [
    "# installation of pytesseract software"
   ]
  },
  {
   "cell_type": "code",
   "execution_count": 4,
   "id": "4f88f7a0",
   "metadata": {},
   "outputs": [
    {
     "name": "stdout",
     "output_type": "stream",
     "text": [
      "Collecting pytesseract\n",
      "  Downloading pytesseract-0.3.10-py3-none-any.whl (14 kB)\n",
      "Requirement already satisfied: pillow in c:\\users\\omkar\\anaconda3\\envs\\notebook\\lib\\site-packages (10.1.0)\n",
      "Requirement already satisfied: packaging>=21.3 in c:\\users\\omkar\\anaconda3\\envs\\notebook\\lib\\site-packages (from pytesseract) (23.1)\n",
      "Installing collected packages: pytesseract\n",
      "Successfully installed pytesseract-0.3.10\n"
     ]
    },
    {
     "name": "stderr",
     "output_type": "stream",
     "text": [
      "WARNING: Ignoring invalid distribution -atplotlib (c:\\users\\omkar\\anaconda3\\envs\\notebook\\lib\\site-packages)\n",
      "WARNING: Ignoring invalid distribution -atplotlib (c:\\users\\omkar\\anaconda3\\envs\\notebook\\lib\\site-packages)\n"
     ]
    }
   ],
   "source": [
    "!pip install pytesseract pillow # installation of pytesseract software from the text- extraction"
   ]
  },
  {
   "cell_type": "code",
   "execution_count": 5,
   "id": "bb2deb31",
   "metadata": {},
   "outputs": [],
   "source": [
    "from PIL import Image # import the Image function from PIL(Python Imaging Library) for resize the image \n",
    "import pytesseract # importing the pytesseract"
   ]
  },
  {
   "cell_type": "code",
   "execution_count": 6,
   "id": "30814169",
   "metadata": {},
   "outputs": [],
   "source": [
    "# giving the name to the path of the application or software\n",
    "pytesseract.pytesseract.tesseract_cmd = r\"C:\\Program Files\\Tesseract-OCR\\tesseract.exe\"\n",
    "# Classname.function.variable = path stored AS like"
   ]
  },
  {
   "cell_type": "markdown",
   "id": "c460d2ed",
   "metadata": {},
   "source": [
    "Path of application means where the appliation store in our system that path it required"
   ]
  },
  {
   "cell_type": "markdown",
   "id": "c5be562f",
   "metadata": {},
   "source": [
    "# Image uploading"
   ]
  },
  {
   "cell_type": "code",
   "execution_count": 7,
   "id": "6295cb0d",
   "metadata": {},
   "outputs": [],
   "source": [
    "Read_image = Image.open(r\"C:\\Users\\omkar\\OneDrive\\Pictures\\os.jpg\")\n",
    "# reading iamge"
   ]
  },
  {
   "cell_type": "markdown",
   "id": "c56dec2b",
   "metadata": {},
   "source": [
    "# Extracting the text from image "
   ]
  },
  {
   "cell_type": "code",
   "execution_count": 9,
   "id": "4735942a",
   "metadata": {},
   "outputs": [],
   "source": [
    "text = pytesseract.image_to_string(Read_image)\n",
    "# extracting the text from image and save in text variable"
   ]
  },
  {
   "cell_type": "code",
   "execution_count": 10,
   "id": "1bd69cca",
   "metadata": {},
   "outputs": [
    {
     "data": {
      "text/plain": [
       "'“YOUR FUTURE IS CREATED BY WHAT\\nvouno § TODAY }\\nNOT © FOMGRROW””\\n'"
      ]
     },
     "execution_count": 10,
     "metadata": {},
     "output_type": "execute_result"
    }
   ],
   "source": [
    "text # calling the text variable to see the teaxt saved in variable\n"
   ]
  },
  {
   "cell_type": "markdown",
   "id": "c4d346d2",
   "metadata": {},
   "source": [
    "Here we succefully able to extract the text from the image"
   ]
  },
  {
   "cell_type": "code",
   "execution_count": null,
   "id": "6de50b1b",
   "metadata": {},
   "outputs": [],
   "source": []
  }
 ],
 "metadata": {
  "kernelspec": {
   "display_name": "Python 3 (ipykernel)",
   "language": "python",
   "name": "python3"
  },
  "language_info": {
   "codemirror_mode": {
    "name": "ipython",
    "version": 3
   },
   "file_extension": ".py",
   "mimetype": "text/x-python",
   "name": "python",
   "nbconvert_exporter": "python",
   "pygments_lexer": "ipython3",
   "version": "3.10.13"
  }
 },
 "nbformat": 4,
 "nbformat_minor": 5
}
